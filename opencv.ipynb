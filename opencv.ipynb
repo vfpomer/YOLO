{
 "cells": [
  {
   "cell_type": "code",
   "execution_count": 1,
   "id": "46507a5f",
   "metadata": {},
   "outputs": [],
   "source": [
    "import cv2 #import opencv\n",
    "import numpy as np #import numpy\n",
    "import matplotlib as plt"
   ]
  },
  {
   "cell_type": "code",
   "execution_count": 2,
   "id": "a6c92a60",
   "metadata": {},
   "outputs": [],
   "source": [
    "#lectura de imagen\n",
    "img = cv2.imread('gato.jpg')"
   ]
  },
  {
   "cell_type": "code",
   "execution_count": 3,
   "id": "81d40a9c",
   "metadata": {},
   "outputs": [
    {
     "data": {
      "text/plain": [
       "array([[[ 34,  33,  35],\n",
       "        [ 32,  31,  33],\n",
       "        [ 31,  30,  32],\n",
       "        ...,\n",
       "        [ 73,  82,  69],\n",
       "        [ 71,  81,  69],\n",
       "        [ 70,  80,  68]],\n",
       "\n",
       "       [[ 37,  36,  38],\n",
       "        [ 35,  34,  36],\n",
       "        [ 34,  33,  35],\n",
       "        ...,\n",
       "        [ 73,  83,  70],\n",
       "        [ 71,  81,  69],\n",
       "        [ 70,  80,  68]],\n",
       "\n",
       "       [[ 38,  40,  40],\n",
       "        [ 38,  40,  40],\n",
       "        [ 36,  38,  38],\n",
       "        ...,\n",
       "        [ 74,  85,  69],\n",
       "        [ 73,  83,  70],\n",
       "        [ 69,  82,  68]],\n",
       "\n",
       "       ...,\n",
       "\n",
       "       [[101, 198, 154],\n",
       "        [124, 224, 182],\n",
       "        [137, 243, 207],\n",
       "        ...,\n",
       "        [114, 215, 170],\n",
       "        [103, 210, 167],\n",
       "        [ 70, 181, 137]],\n",
       "\n",
       "       [[108, 181, 143],\n",
       "        [135, 219, 184],\n",
       "        [153, 255, 222],\n",
       "        ...,\n",
       "        [115, 220, 177],\n",
       "        [ 91, 201, 159],\n",
       "        [ 88, 203, 160]],\n",
       "\n",
       "       [[ 95, 156, 122],\n",
       "        [ 96, 172, 138],\n",
       "        [ 94, 198, 165],\n",
       "        ...,\n",
       "        [ 82, 190, 147],\n",
       "        [ 73, 185, 143],\n",
       "        [ 88, 203, 163]]], shape=(180, 300, 3), dtype=uint8)"
      ]
     },
     "execution_count": 3,
     "metadata": {},
     "output_type": "execute_result"
    }
   ],
   "source": [
    "img"
   ]
  },
  {
   "cell_type": "code",
   "execution_count": 4,
   "id": "34478874",
   "metadata": {},
   "outputs": [
    {
     "data": {
      "text/plain": [
       "(180, 300, 3)"
      ]
     },
     "execution_count": 4,
     "metadata": {},
     "output_type": "execute_result"
    }
   ],
   "source": [
    "img.shape"
   ]
  },
  {
   "cell_type": "code",
   "execution_count": 5,
   "id": "f63e1dad",
   "metadata": {},
   "outputs": [
    {
     "data": {
      "text/plain": [
       "dtype('uint8')"
      ]
     },
     "execution_count": 5,
     "metadata": {},
     "output_type": "execute_result"
    }
   ],
   "source": [
    "img.dtype"
   ]
  },
  {
   "cell_type": "code",
   "execution_count": 6,
   "id": "0b4e7eff",
   "metadata": {},
   "outputs": [
    {
     "data": {
      "text/plain": [
       "162000"
      ]
     },
     "execution_count": 6,
     "metadata": {},
     "output_type": "execute_result"
    }
   ],
   "source": [
    "img.size"
   ]
  },
  {
   "cell_type": "markdown",
   "id": "60137538",
   "metadata": {},
   "source": [
    "#### Lectura de imagen"
   ]
  },
  {
   "cell_type": "code",
   "execution_count": 7,
   "id": "ae5ff175",
   "metadata": {},
   "outputs": [],
   "source": [
    "#mostrar imagen\n",
    "cv2.imshow('Ventana Gato', img) #nombre de la ventana, imagen\n",
    "cv2.waitKey(0) #espera a que se presione una tecla\n",
    "cv2.destroyAllWindows() #destruye todas las ventanas abiertas de la memoria\n"
   ]
  },
  {
   "cell_type": "code",
   "execution_count": 8,
   "id": "6a510831",
   "metadata": {},
   "outputs": [],
   "source": [
    "#filtros\n",
    "img_gris = cv2.imread('gato.jpg', cv2.IMREAD_GRAYSCALE) #lee la imagen en escala de grises\n",
    "cv2.imshow('Ventana Gato Gris', img_gris) #nombre de la ventana, imagen\n",
    "cv2.waitKey(0) #espera a que se presione una tecla\n",
    "cv2.destroyAllWindows() #destruye todas las ventanas abiertas de la memoria"
   ]
  },
  {
   "cell_type": "code",
   "execution_count": 11,
   "id": "f3d35880",
   "metadata": {},
   "outputs": [],
   "source": [
    "img_blue = cv2.cvtColor(img_blue, cv2.COLOR_BGR2RGB)#lee la imagen en color\n",
    "cv2.imshow('Ventana Gato Azul', img_blue) #nombre de la ventana, imagen\n",
    "cv2.waitKey(0) #espera a que se presione una tecla\n",
    "cv2.destroyAllWindows() #destruye todas las ventanas abiertas de la memoria"
   ]
  },
  {
   "cell_type": "code",
   "execution_count": null,
   "id": "9409deb4",
   "metadata": {},
   "outputs": [],
   "source": [
    "#redimentionado\n",
    "imagen_red = cv2.resize(img, (300, 300)) #redimensiona la imagen a 300x300\n",
    "cv2.imshow('Ventana Gato Redimensionado', imagen_red) #nombre de la ventana, imagen\n",
    "cv2.waitKey(0) #espera a que se presione una tecla\n",
    "cv2.destroyAllWindows() #destruye todas las ventanas abiertas de la memoria"
   ]
  },
  {
   "cell_type": "code",
   "execution_count": null,
   "id": "5548b8c3",
   "metadata": {},
   "outputs": [],
   "source": [
    "#guardado de imaden redimensionada\n",
    "cv2.imwrite('gato_redimensionado.jpg', imagen_red) #guarda la imagen redimensionada"
   ]
  },
  {
   "cell_type": "code",
   "execution_count": 13,
   "id": "59842169",
   "metadata": {},
   "outputs": [],
   "source": [
    "#escalada (imagen pequeña a grande)\n",
    "imagen_escalada = cv2.resize(img, None, fx=0.7, fy=0.7) #redimensiona la imagen a 800x800\n",
    "cv2.imshow('Ventana Gato Escalada', imagen_escalada) #nombre de la ventana, imagen\n",
    "cv2.waitKey(0) #espera a que se presione una tecla\n",
    "cv2.destroyAllWindows() #destruye todas las ventanas abiertas de la memoria\n"
   ]
  },
  {
   "cell_type": "code",
   "execution_count": 14,
   "id": "53205c78",
   "metadata": {},
   "outputs": [],
   "source": [
    "#interpolación\n",
    "iimagen_interpolada = cv2.resize(img, (800, 800), interpolation=cv2.INTER_CUBIC) #redimensiona la imagen a 800x800 con interpolación cúbica\n",
    "cv2.imshow('Ventana Gato Interpolada', iimagen_interpolada) #nombre de la ventana, imagen\n",
    "cv2.waitKey(0) #espera a que se presione una tecla\n",
    "cv2.destroyAllWindows() #destruye todas las ventanas abiertas de la memoria"
   ]
  },
  {
   "cell_type": "code",
   "execution_count": 15,
   "id": "e2166b9b",
   "metadata": {},
   "outputs": [],
   "source": [
    "#desenfoque\n",
    "imagen_desenfocada = cv2.GaussianBlur(img, (15, 15), 0) #aplica un desenfoque gaussiano a la imagen\n",
    "cv2.imshow('Ventana Gato Desenfocado', imagen_desenfocada) #nombre de la ventana, imagen\n",
    "cv2.waitKey(0) #espera a que se presione una tecla\n",
    "cv2.destroyAllWindows() #destruye todas las ventanas abiertas de la memoria"
   ]
  },
  {
   "cell_type": "code",
   "execution_count": 16,
   "id": "464d195e",
   "metadata": {},
   "outputs": [],
   "source": [
    "#filtros morphologicos\n",
    "kernel = np.ones((5, 5), np.uint8) #crea un kernel de 5x5 de unos\n",
    "img_dilatada = cv2.dilate(img, kernel, iterations=1) #aplica una dilatación a la imagen\n",
    "cv2.imshow('Ventana Gato Dilatada', img_dilatada) #nombre de la ventana, imagen\n",
    "cv2.waitKey(0) #espera a que se presione una tecla\n",
    "cv2.destroyAllWindows() #destruye todas las ventanas abiertas de la memoria"
   ]
  },
  {
   "cell_type": "markdown",
   "id": "447cefbe",
   "metadata": {},
   "source": [
    "#### captura de video"
   ]
  },
  {
   "cell_type": "code",
   "execution_count": 18,
   "id": "46f71668",
   "metadata": {},
   "outputs": [],
   "source": [
    "cap = cv2.VideoCapture(0) #captura de video desde la cámara\n",
    "while True:\n",
    "    ret, frame = cap.read() #lee un frame de la cámara\n",
    "    if not ret: #si no se pudo leer el frame\n",
    "        break #sale del bucle\n",
    "    cv2.imshow('Ventana Video', frame) #nombre de la ventana, imagen\n",
    "    if cv2.waitKey(1) & 0xFF == ord('q'): #espera a que se presione la tecla 'q'\n",
    "        break #sale del bucle\n",
    "\n",
    "cap.release() #libera la cámara\n",
    "cv2.destroyAllWindows() #destruye todas las ventanas abiertas de la memoria"
   ]
  },
  {
   "cell_type": "code",
   "execution_count": 19,
   "id": "b6682cb1",
   "metadata": {},
   "outputs": [],
   "source": [
    "# Inicializar captura de video\n",
    "cap = cv2.VideoCapture(0)  # 0 para cámara por defecto\n",
    " \n",
    "while True:\n",
    "    ret, frame = cap.read()\n",
    "    if not ret:\n",
    "        break\n",
    "   \n",
    "    # Procesar frame aquí\n",
    "    gris = cv2.cvtColor(frame, cv2.COLOR_BGR2GRAY)\n",
    "   \n",
    "    # Mostrar frame\n",
    "    cv2.imshow('Video', gris)\n",
    "   \n",
    "    # Salir con 'q'\n",
    "    if cv2.waitKey(1) & 0xFF == ord('q'):\n",
    "        break\n",
    " \n",
    "cap.release()\n",
    "cv2.destroyAllWindows()  # Cerrar todas las ventanas"
   ]
  },
  {
   "cell_type": "code",
   "execution_count": 20,
   "id": "58cc00d8",
   "metadata": {},
   "outputs": [],
   "source": [
    "#detector de mov simple\n",
    "import cv2\n",
    "def detector_movimiento():\n",
    "    cap = cv2.VideoCapture(0)\n",
    "    # Leer primer frame\n",
    "    ret, frame1 = cap.read()\n",
    "    ret, frame2 = cap.read()\n",
    "    while True:\n",
    "        # Calcular diferencia\n",
    "        diff = cv2.absdiff(frame1, frame2)\n",
    "        gris = cv2.cvtColor(diff, cv2.COLOR_BGR2GRAY)\n",
    "        blur = cv2.GaussianBlur(gris, (5, 5), 0)\n",
    "        _, thresh = cv2.threshold(blur, 20, 255, cv2.THRESH_BINARY)\n",
    "        # Encontrar contornos\n",
    "        contornos, _ = cv2.findContours(thresh, cv2.RETR_EXTERNAL, cv2.CHAIN_APPROX_SIMPLE)\n",
    "        for contorno in contornos:\n",
    "            if cv2.contourArea(contorno) > 500:\n",
    "                x, y, w, h = cv2.boundingRect(contorno)\n",
    "                cv2.rectangle(frame1, (x, y), (x+w, y+h), (0, 255, 0), 2)\n",
    "                cv2.putText(frame1, \"Movimiento\", (x, y-10), cv2.FONT_HERSHEY_SIMPLEX, 0.5, (0, 255, 0), 2)\n",
    "        cv2.imshow('Detector de Movimiento', frame1)\n",
    "        frame1 = frame2\n",
    "        ret, frame2 = cap.read()\n",
    "        if cv2.waitKey(1) & 0xFF == ord('q'):\n",
    "            break\n",
    "    cap.release()\n",
    "    cv2.destroyAllWindows()\n",
    "# Ejecutar\n",
    "detector_movimiento()"
   ]
  }
 ],
 "metadata": {
  "kernelspec": {
   "display_name": "yolo",
   "language": "python",
   "name": "python3"
  },
  "language_info": {
   "codemirror_mode": {
    "name": "ipython",
    "version": 3
   },
   "file_extension": ".py",
   "mimetype": "text/x-python",
   "name": "python",
   "nbconvert_exporter": "python",
   "pygments_lexer": "ipython3",
   "version": "3.11.9"
  }
 },
 "nbformat": 4,
 "nbformat_minor": 5
}
